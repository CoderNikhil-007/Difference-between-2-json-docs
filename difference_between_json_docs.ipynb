{
 "cells": [
  {
   "cell_type": "code",
   "execution_count": 2,
   "id": "99ec5e59-1037-4e0f-80dc-4faf1aac06e6",
   "metadata": {},
   "outputs": [
    {
     "name": "stdout",
     "output_type": "stream",
     "text": [
      "Document 1 created with data of {'name': 'Sachin', 'Runs': 34347, 'Wickets': 200, 'Milestones': {'100s': 100, '50s': 164, '5W Hauls': 2}}\n",
      "Document 1 created with data of {'name': 'Sachin', 'Run': 34000, 'Wickets': 200, 'Milestones': {'100s': 100, '50s': 150, '5WM': 2}}\n"
     ]
    }
   ],
   "source": [
    "#lets create 2 json documents first by using file handling\n",
    "import json\n",
    "\n",
    "file_1 = {\n",
    "    \"name\" : \"Sachin\",\n",
    "    \"Runs\" : 34347,\n",
    "    \"Wickets\" : 201,\n",
    "    \"Milestones\" : {\n",
    "        \"100s\" : 100,\n",
    "        \"50s\" : 164,\n",
    "        \"5W Hauls\" : 2\n",
    "    }\n",
    "}\n",
    "\n",
    "file_2 = {\n",
    "    \"name\" : \"Sachin\",\n",
    "    \"Run\" : 34000,\n",
    "    \"Wickets\" : 200,\n",
    "    \"Milestones\" : {\n",
    "        \"100s\" : 100,\n",
    "        \"50s\" : 150,\n",
    "        \"5WM\" : 2\n",
    "    }\n",
    "}\n",
    "\n",
    "with open(\"file_1.json\", 'w') as json_file:\n",
    "    json.dump(file_1, json_file, indent=4) \n",
    "\n",
    "print(f\"Document 1 created with data of {file_1}\")\n",
    "\n",
    "with open(\"file_2.json\", 'w') as json_file:\n",
    "    json.dump(file_2, json_file, indent=4) \n",
    "print(f\"Document 1 created with data of {file_2}\")"
   ]
  },
  {
   "cell_type": "code",
   "execution_count": 42,
   "id": "1b49e3a6-581f-42ca-a276-699452e52596",
   "metadata": {},
   "outputs": [],
   "source": [
    "#Lets import those files\n",
    "with open(\"file_1.json\", 'r') as json_file:\n",
    "    doc_1 = json.load(json_file)\n",
    "\n",
    "with open(\"file_2.json\", 'r') as json_file:\n",
    "    doc_2 = json.load(json_file)\n",
    "\n",
    "#creating a function to give the difference between 2 docs\n",
    "def get_difference(doc_1, doc_2):\n",
    "    #def give_difference(doc_1, doc_2):\n",
    "    difference = {}\n",
    "    \n",
    "    #comparing the keys first\n",
    "    key_diff = list(doc_1.keys() - doc_2.keys())\n",
    "    \n",
    "    if key_diff:\n",
    "        doc_1_keys = list(doc_1.keys() - doc_2.keys())\n",
    "        doc_2_keys =  list(doc_2.keys() - doc_1.keys())\n",
    "        doc_1_vals = {}\n",
    "        doc_2_vals = {}\n",
    "        for k1, k2 in zip(doc_1_keys, doc_2_keys):\n",
    "            doc_1_vals[k1] = doc_1.get(k1) \n",
    "            doc_2_vals[k2] = doc_2.get(k2)\n",
    "        difference['key differences'] = {\n",
    "            'Doc 1 keys' : doc_1_keys,\n",
    "            'Doc 1 Vals' : doc_1_vals,\n",
    "            'Doc 2 keys' : doc_2_keys,\n",
    "            'Doc 2 Vals' : doc_2_vals\n",
    "        }\n",
    "    \n",
    "    #Lets compare the values of common keys now\n",
    "    \n",
    "    common_keys = doc_1.keys() & doc_2.keys()   \n",
    "    difference['value differences'] = []\n",
    "    for key in common_keys:\n",
    "        if type(doc_1.get(key)) == type(doc_2.get(key)):\n",
    "            if type(doc_1.get(key)) == dict:\n",
    "                if get_difference(doc_1.get(key), doc_2.get(key)):\n",
    "                    difference['value differences'].append({key : get_difference(doc_1.get(key), doc_2.get(key))})\n",
    "                continue\n",
    "            if doc_1.get(key) != doc_2.get(key):\n",
    "                difference['value differences'].append(\n",
    "                    {\n",
    "                        key : {\n",
    "                            'doc 1 val' : doc_1.get(key),\n",
    "                            'doc 2 val' : doc_2.get(key),\n",
    "                        }\n",
    "                    }\n",
    "                )\n",
    "        else:\n",
    "            difference['value differences'].append(\n",
    "                {\n",
    "                    key : {\n",
    "                        'doc 1 val' : doc_1.get(key),\n",
    "                        'doc 2 val' : doc_2.get(key),\n",
    "                    }\n",
    "                }\n",
    "            )\n",
    "\n",
    "    return difference"
   ]
  },
  {
   "cell_type": "code",
   "execution_count": 43,
   "id": "0357b0ee-5a5f-4cfc-b1e6-028eed5933fa",
   "metadata": {},
   "outputs": [
    {
     "data": {
      "text/plain": [
       "{'key differences': {'Doc 1 keys': ['Runs'],\n",
       "  'Doc 1 Vals': {'Runs': 34347},\n",
       "  'Doc 2 keys': ['Run'],\n",
       "  'Doc 2 Vals': {'Run': 34000}},\n",
       " 'value differences': [{'Milestones': {'key differences': {'Doc 1 keys': ['5W Hauls'],\n",
       "     'Doc 1 Vals': {'5W Hauls': 2},\n",
       "     'Doc 2 keys': ['5WM'],\n",
       "     'Doc 2 Vals': {'5WM': 2}},\n",
       "    'value differences': [{'50s': {'doc 1 val': 164, 'doc 2 val': 150}}]}}]}"
      ]
     },
     "execution_count": 43,
     "metadata": {},
     "output_type": "execute_result"
    }
   ],
   "source": [
    "get_difference(doc_1, doc_2)"
   ]
  },
  {
   "cell_type": "code",
   "execution_count": null,
   "id": "4387ada0-9f49-4ac5-aa88-3c9f2c58487a",
   "metadata": {},
   "outputs": [],
   "source": []
  }
 ],
 "metadata": {
  "kernelspec": {
   "display_name": "Python 3 (ipykernel)",
   "language": "python",
   "name": "python3"
  },
  "language_info": {
   "codemirror_mode": {
    "name": "ipython",
    "version": 3
   },
   "file_extension": ".py",
   "mimetype": "text/x-python",
   "name": "python",
   "nbconvert_exporter": "python",
   "pygments_lexer": "ipython3",
   "version": "3.12.3"
  }
 },
 "nbformat": 4,
 "nbformat_minor": 5
}
